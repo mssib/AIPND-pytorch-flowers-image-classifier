{
 "cells": [
  {
   "cell_type": "markdown",
   "metadata": {},
   "source": [
    "# Developing an AI application\n",
    "\n",
    "Going forward, AI algorithms will be incorporated into more and more everyday applications. For example, you might want to include an image classifier in a smart phone app. To do this, you'd use a deep learning model trained on hundreds of thousands of images as part of the overall application architecture. A large part of software development in the future will be using these types of models as common parts of applications. \n",
    "\n",
    "In this project, you'll train an image classifier to recognize different species of flowers. You can imagine using something like this in a phone app that tells you the name of the flower your camera is looking at. In practice you'd train this classifier, then export it for use in your application. We'll be using [this dataset](http://www.robots.ox.ac.uk/~vgg/data/flowers/102/index.html) of 102 flower categories, you can see a few examples below. \n",
    "\n",
    "<img src='assets/Flowers.png' width=500px>\n",
    "\n",
    "The project is broken down into multiple steps:\n",
    "\n",
    "* Load and preprocess the image dataset\n",
    "* Train the image classifier on your dataset\n",
    "* Use the trained classifier to predict image content\n",
    "\n",
    "We'll lead you through each part which you'll implement in Python.\n",
    "\n",
    "When you've completed this project, you'll have an application that can be trained on any set of labeled images. Here your network will be learning about flowers and end up as a command line application. But, what you do with your new skills depends on your imagination and effort in building a dataset. For example, imagine an app where you take a picture of a car, it tells you what the make and model is, then looks up information about it. Go build your own dataset and make something new.\n",
    "\n",
    "First up is importing the packages you'll need. It's good practice to keep all the imports at the beginning of your code. As you work through this notebook and find you need to import a package, make sure to add the import up here."
   ]
  },
  {
   "cell_type": "code",
   "execution_count": 1,
   "metadata": {},
   "outputs": [],
   "source": [
    "# Imports here\n",
    "\n",
    "import torch\n",
    "from torch import nn\n",
    "from torch import optim\n",
    "import torch.nn.functional as F\n",
    "from torchvision import datasets, transforms, models\n",
    "from collections import OrderedDict\n",
    "\n",
    "import numpy as np\n",
    "import pandas as pd\n",
    "from PIL import Image\n",
    "\n",
    "import matplotlib.pyplot as plt\n",
    "import seaborn as sb"
   ]
  },
  {
   "cell_type": "code",
   "execution_count": 2,
   "metadata": {},
   "outputs": [],
   "source": [
    "%matplotlib inline"
   ]
  },
  {
   "cell_type": "markdown",
   "metadata": {},
   "source": [
    "## Load the data\n",
    "\n",
    "Here you'll use `torchvision` to load the data ([documentation](http://pytorch.org/docs/0.3.0/torchvision/index.html)). The data should be included alongside this notebook, otherwise you can [download it here](https://s3.amazonaws.com/content.udacity-data.com/nd089/flower_data.tar.gz). The dataset is split into three parts, training, validation, and testing. For the training, you'll want to apply transformations such as random scaling, cropping, and flipping. This will help the network generalize leading to better performance. You'll also need to make sure the input data is resized to 224x224 pixels as required by the pre-trained networks.\n",
    "\n",
    "The validation and testing sets are used to measure the model's performance on data it hasn't seen yet. For this you don't want any scaling or rotation transformations, but you'll need to resize then crop the images to the appropriate size.\n",
    "\n",
    "The pre-trained networks you'll use were trained on the ImageNet dataset where each color channel was normalized separately. For all three sets you'll need to normalize the means and standard deviations of the images to what the network expects. For the means, it's `[0.485, 0.456, 0.406]` and for the standard deviations `[0.229, 0.224, 0.225]`, calculated from the ImageNet images.  These values will shift each color channel to be centered at 0 and range from -1 to 1.\n",
    " "
   ]
  },
  {
   "cell_type": "code",
   "execution_count": 3,
   "metadata": {},
   "outputs": [],
   "source": [
    "data_dir = 'flowers'\n",
    "train_dir = data_dir + '/train'\n",
    "valid_dir = data_dir + '/valid'\n",
    "test_dir = data_dir + '/test'"
   ]
  },
  {
   "cell_type": "code",
   "execution_count": 4,
   "metadata": {
    "scrolled": true
   },
   "outputs": [],
   "source": [
    "# TODO: Define your transforms for the training, validation, and testing sets\n",
    "data_transforms = {'train': transforms.Compose([transforms.RandomRotation(45),\n",
    "                                            transforms.RandomResizedCrop(224),\n",
    "                                            transforms.RandomHorizontalFlip(),transforms.ToTensor(),\n",
    "                                            transforms.Normalize([0.485, 0.456, 0.406], [0.229, 0.224, 0.225])]),\n",
    "                   \n",
    "                    'valid_test': transforms.Compose([transforms.Resize(254),\n",
    "                                            transforms.CenterCrop(224),\n",
    "                                            transforms.ToTensor(),\n",
    "                                            transforms.Normalize([0.485, 0.456, 0.406], \n",
    "                                                                [0.229, 0.224, 0.225])])\n",
    "                  }\n",
    "\n",
    "# TODO: Load the datasets with ImageFolder\n",
    "image_datasets = {'train': datasets.ImageFolder(train_dir, transform=data_transforms['train']),\n",
    "                  'valid': datasets.ImageFolder(valid_dir, transform=data_transforms['valid_test']),\n",
    "                  'test': datasets.ImageFolder(test_dir, transform=data_transforms['valid_test'])\n",
    "                 }\n",
    "\n",
    "# TODO: Using the image datasets and the trainforms, define the dataloaders\n",
    "dataloaders = {'train': torch.utils.data.DataLoader(image_datasets['train'], batch_size=32, shuffle=True),\n",
    "               'valid': torch.utils.data.DataLoader(image_datasets['valid'], batch_size=32),\n",
    "               'test': torch.utils.data.DataLoader(image_datasets['test'], batch_size=32)\n",
    "              }\n"
   ]
  },
  {
   "cell_type": "code",
   "execution_count": 5,
   "metadata": {},
   "outputs": [],
   "source": [
    "trainloader, validloader, testloader= dataloaders['train'], dataloaders['valid'], dataloaders['test']"
   ]
  },
  {
   "cell_type": "markdown",
   "metadata": {},
   "source": [
    "### Label mapping\n",
    "\n",
    "You'll also need to load in a mapping from category label to category name. You can find this in the file `cat_to_name.json`. It's a JSON object which you can read in with the [`json` module](https://docs.python.org/2/library/json.html). This will give you a dictionary mapping the integer encoded categories to the actual names of the flowers."
   ]
  },
  {
   "cell_type": "code",
   "execution_count": 6,
   "metadata": {},
   "outputs": [],
   "source": [
    "import json\n",
    "\n",
    "with open('cat_to_name.json', 'r') as f:\n",
    "    cat_to_name = json.load(f)"
   ]
  },
  {
   "cell_type": "markdown",
   "metadata": {},
   "source": [
    "# Building and training the classifier\n",
    "\n",
    "Now that the data is ready, it's time to build and train the classifier. As usual, you should use one of the pretrained models from `torchvision.models` to get the image features. Build and train a new feed-forward classifier using those features.\n",
    "\n",
    "We're going to leave this part up to you. Refer to [the rubric](https://review.udacity.com/#!/rubrics/1663/view) for guidance on successfully completing this section. Things you'll need to do:\n",
    "\n",
    "* Load a [pre-trained network](http://pytorch.org/docs/master/torchvision/models.html) (If you need a starting point, the VGG networks work great and are straightforward to use)\n",
    "* Define a new, untrained feed-forward network as a classifier, using ReLU activations and dropout\n",
    "* Train the classifier layers using backpropagation using the pre-trained network to get the features\n",
    "* Track the loss and accuracy on the validation set to determine the best hyperparameters\n",
    "\n",
    "We've left a cell open for you below, but use as many as you need. Our advice is to break the problem up into smaller parts you can run separately. Check that each part is doing what you expect, then move on to the next. You'll likely find that as you work through each part, you'll need to go back and modify your previous code. This is totally normal!\n",
    "\n",
    "When training make sure you're updating only the weights of the feed-forward network. You should be able to get the validation accuracy above 70% if you build everything right. Make sure to try different hyperparameters (learning rate, units in the classifier, epochs, etc) to find the best model. Save those hyperparameters to use as default values in the next part of the project.\n",
    "\n",
    "One last important tip if you're using the workspace to run your code: To avoid having your workspace disconnect during the long-running tasks in this notebook, please read in the earlier page in this lesson called Intro to\n",
    "GPU Workspaces about Keeping Your Session Active. You'll want to include code from the workspace_utils.py module.\n",
    "\n",
    "**Note for Workspace users:** If your network is over 1 GB when saved as a checkpoint, there might be issues with saving backups in your workspace. Typically this happens with wide dense layers after the convolutional layers. If your saved checkpoint is larger than 1 GB (you can open a terminal and check with `ls -lh`), you should reduce the size of your hidden layers and train again."
   ]
  },
  {
   "cell_type": "code",
   "execution_count": 6,
   "metadata": {},
   "outputs": [
    {
     "name": "stderr",
     "output_type": "stream",
     "text": [
      "Downloading: \"https://download.pytorch.org/models/vgg16-397923af.pth\" to /root/.torch/models/vgg16-397923af.pth\n",
      "100%|██████████| 553433881/553433881 [00:19<00:00, 28122959.40it/s]\n"
     ]
    }
   ],
   "source": [
    "# TODO: Build and train your network\n",
    "model = models.vgg16(pretrained=True)"
   ]
  },
  {
   "cell_type": "code",
   "execution_count": 7,
   "metadata": {},
   "outputs": [],
   "source": [
    "# Frozen parameters \n",
    "for parameters in model.parameters():\n",
    "    parameters.requires_grad = False\n",
    "\n",
    "classifier = nn.Sequential(\n",
    "    nn.Linear(25088, 4096),\n",
    "    nn.ReLU(),\n",
    "    nn.Dropout(p=0.2),\n",
    "    nn.Linear(4096, 4096),\n",
    "    nn.ReLU(),\n",
    "    nn.Dropout(p=0.2),\n",
    "    nn.Linear(4096,102),\n",
    "    nn.LogSoftmax(dim=1)\n",
    "    )\n",
    "\n",
    "model.classifier = classifier\n",
    "model "
   ]
  },
  {
   "cell_type": "code",
   "execution_count": 22,
   "metadata": {},
   "outputs": [
    {
     "data": {
      "text/plain": [
       "VGG(\n",
       "  (features): Sequential(\n",
       "    (0): Conv2d(3, 64, kernel_size=(3, 3), stride=(1, 1), padding=(1, 1))\n",
       "    (1): ReLU(inplace)\n",
       "    (2): Conv2d(64, 64, kernel_size=(3, 3), stride=(1, 1), padding=(1, 1))\n",
       "    (3): ReLU(inplace)\n",
       "    (4): MaxPool2d(kernel_size=2, stride=2, padding=0, dilation=1, ceil_mode=False)\n",
       "    (5): Conv2d(64, 128, kernel_size=(3, 3), stride=(1, 1), padding=(1, 1))\n",
       "    (6): ReLU(inplace)\n",
       "    (7): Conv2d(128, 128, kernel_size=(3, 3), stride=(1, 1), padding=(1, 1))\n",
       "    (8): ReLU(inplace)\n",
       "    (9): MaxPool2d(kernel_size=2, stride=2, padding=0, dilation=1, ceil_mode=False)\n",
       "    (10): Conv2d(128, 256, kernel_size=(3, 3), stride=(1, 1), padding=(1, 1))\n",
       "    (11): ReLU(inplace)\n",
       "    (12): Conv2d(256, 256, kernel_size=(3, 3), stride=(1, 1), padding=(1, 1))\n",
       "    (13): ReLU(inplace)\n",
       "    (14): Conv2d(256, 256, kernel_size=(3, 3), stride=(1, 1), padding=(1, 1))\n",
       "    (15): ReLU(inplace)\n",
       "    (16): MaxPool2d(kernel_size=2, stride=2, padding=0, dilation=1, ceil_mode=False)\n",
       "    (17): Conv2d(256, 512, kernel_size=(3, 3), stride=(1, 1), padding=(1, 1))\n",
       "    (18): ReLU(inplace)\n",
       "    (19): Conv2d(512, 512, kernel_size=(3, 3), stride=(1, 1), padding=(1, 1))\n",
       "    (20): ReLU(inplace)\n",
       "    (21): Conv2d(512, 512, kernel_size=(3, 3), stride=(1, 1), padding=(1, 1))\n",
       "    (22): ReLU(inplace)\n",
       "    (23): MaxPool2d(kernel_size=2, stride=2, padding=0, dilation=1, ceil_mode=False)\n",
       "    (24): Conv2d(512, 512, kernel_size=(3, 3), stride=(1, 1), padding=(1, 1))\n",
       "    (25): ReLU(inplace)\n",
       "    (26): Conv2d(512, 512, kernel_size=(3, 3), stride=(1, 1), padding=(1, 1))\n",
       "    (27): ReLU(inplace)\n",
       "    (28): Conv2d(512, 512, kernel_size=(3, 3), stride=(1, 1), padding=(1, 1))\n",
       "    (29): ReLU(inplace)\n",
       "    (30): MaxPool2d(kernel_size=2, stride=2, padding=0, dilation=1, ceil_mode=False)\n",
       "  )\n",
       "  (classifier): Sequential(\n",
       "    (0): Linear(in_features=25088, out_features=4096, bias=True)\n",
       "    (1): ReLU()\n",
       "    (2): Dropout(p=0.2)\n",
       "    (3): Linear(in_features=4096, out_features=4096, bias=True)\n",
       "    (4): ReLU()\n",
       "    (5): Dropout(p=0.2)\n",
       "    (6): Linear(in_features=4096, out_features=102, bias=True)\n",
       "    (7): LogSoftmax()\n",
       "  )\n",
       ")"
      ]
     },
     "execution_count": 22,
     "metadata": {},
     "output_type": "execute_result"
    }
   ],
   "source": [
    "criterion = nn.NLLLoss()\n",
    "\n",
    "# Optimizing the classifier paramateres\n",
    "optimizer = optim.Adam(model.classifier.parameters(), lr=0.001)\n",
    "\n",
    "# Enable cuda if available\n",
    "device = torch.device(\"cuda:0\" if torch.cuda.is_available() else \"cpu\") \n",
    "\n",
    "# change to cuda if available\n",
    "model.to(device) \n"
   ]
  },
  {
   "cell_type": "code",
   "execution_count": 9,
   "metadata": {},
   "outputs": [],
   "source": [
    "# Validation Function\n",
    "def validation(model, validloader, criterion):\n",
    "    valid_loss = 0\n",
    "    accuracy = 0\n",
    "    for images, labels in validloader:\n",
    "        \n",
    "        images, labels = images.to(device), labels.to(device) \n",
    "\n",
    "        output = model.forward(images)\n",
    "        valid_loss += criterion(output, labels).item()\n",
    "\n",
    "        ps = torch.exp(output)\n",
    "        equality = (labels.data == ps.max(dim=1)[1])\n",
    "        accuracy += equality.type(torch.FloatTensor).mean()\n",
    "    \n",
    "    return valid_loss, accuracy"
   ]
  },
  {
   "cell_type": "code",
   "execution_count": 10,
   "metadata": {},
   "outputs": [
    {
     "name": "stdout",
     "output_type": "stream",
     "text": [
      "Epoch: 1/15...  Training Loss: 4.469 Validation Loss: 3.035..  Validation Accuracy: 0.311\n",
      "Epoch: 1/15...  Training Loss: 2.944 Validation Loss: 2.229..  Validation Accuracy: 0.384\n",
      "Epoch: 1/15...  Training Loss: 2.454 Validation Loss: 1.840..  Validation Accuracy: 0.499\n",
      "Epoch: 1/15...  Training Loss: 2.232 Validation Loss: 1.552..  Validation Accuracy: 0.561\n",
      "Epoch: 2/15...  Training Loss: 1.721 Validation Loss: 1.346..  Validation Accuracy: 0.645\n",
      "Epoch: 2/15...  Training Loss: 1.949 Validation Loss: 1.213..  Validation Accuracy: 0.651\n",
      "Epoch: 2/15...  Training Loss: 1.815 Validation Loss: 1.106..  Validation Accuracy: 0.701\n",
      "Epoch: 2/15...  Training Loss: 1.800 Validation Loss: 1.080..  Validation Accuracy: 0.711\n",
      "Epoch: 3/15...  Training Loss: 1.308 Validation Loss: 1.023..  Validation Accuracy: 0.712\n",
      "Epoch: 3/15...  Training Loss: 1.501 Validation Loss: 0.926..  Validation Accuracy: 0.744\n",
      "Epoch: 3/15...  Training Loss: 1.667 Validation Loss: 0.957..  Validation Accuracy: 0.748\n",
      "Epoch: 3/15...  Training Loss: 1.587 Validation Loss: 1.011..  Validation Accuracy: 0.728\n",
      "Epoch: 4/15...  Training Loss: 1.028 Validation Loss: 0.880..  Validation Accuracy: 0.759\n",
      "Epoch: 4/15...  Training Loss: 1.553 Validation Loss: 0.796..  Validation Accuracy: 0.790\n",
      "Epoch: 4/15...  Training Loss: 1.453 Validation Loss: 0.745..  Validation Accuracy: 0.795\n",
      "Epoch: 4/15...  Training Loss: 1.444 Validation Loss: 0.782..  Validation Accuracy: 0.800\n",
      "Epoch: 5/15...  Training Loss: 0.834 Validation Loss: 0.744..  Validation Accuracy: 0.802\n",
      "Epoch: 5/15...  Training Loss: 1.369 Validation Loss: 0.720..  Validation Accuracy: 0.814\n",
      "Epoch: 5/15...  Training Loss: 1.392 Validation Loss: 0.878..  Validation Accuracy: 0.770\n",
      "Epoch: 5/15...  Training Loss: 1.457 Validation Loss: 0.734..  Validation Accuracy: 0.837\n",
      "Epoch: 6/15...  Training Loss: 0.683 Validation Loss: 0.649..  Validation Accuracy: 0.825\n",
      "Epoch: 6/15...  Training Loss: 1.298 Validation Loss: 0.733..  Validation Accuracy: 0.795\n",
      "Epoch: 6/15...  Training Loss: 1.328 Validation Loss: 0.698..  Validation Accuracy: 0.803\n",
      "Epoch: 6/15...  Training Loss: 1.378 Validation Loss: 0.781..  Validation Accuracy: 0.801\n",
      "Epoch: 7/15...  Training Loss: 0.568 Validation Loss: 0.759..  Validation Accuracy: 0.811\n",
      "Epoch: 7/15...  Training Loss: 1.294 Validation Loss: 0.612..  Validation Accuracy: 0.841\n",
      "Epoch: 7/15...  Training Loss: 1.293 Validation Loss: 0.720..  Validation Accuracy: 0.815\n",
      "Epoch: 7/15...  Training Loss: 1.311 Validation Loss: 0.662..  Validation Accuracy: 0.843\n",
      "Epoch: 8/15...  Training Loss: 0.355 Validation Loss: 0.585..  Validation Accuracy: 0.855\n",
      "Epoch: 8/15...  Training Loss: 1.251 Validation Loss: 0.684..  Validation Accuracy: 0.827\n",
      "Epoch: 8/15...  Training Loss: 1.201 Validation Loss: 0.740..  Validation Accuracy: 0.818\n",
      "Epoch: 8/15...  Training Loss: 1.227 Validation Loss: 0.647..  Validation Accuracy: 0.831\n",
      "Epoch: 9/15...  Training Loss: 0.274 Validation Loss: 0.709..  Validation Accuracy: 0.827\n",
      "Epoch: 9/15...  Training Loss: 1.215 Validation Loss: 0.682..  Validation Accuracy: 0.841\n",
      "Epoch: 9/15...  Training Loss: 1.189 Validation Loss: 0.699..  Validation Accuracy: 0.833\n",
      "Epoch: 9/15...  Training Loss: 1.312 Validation Loss: 0.642..  Validation Accuracy: 0.825\n",
      "Epoch: 10/15...  Training Loss: 0.093 Validation Loss: 0.671..  Validation Accuracy: 0.838\n",
      "Epoch: 10/15...  Training Loss: 1.136 Validation Loss: 0.608..  Validation Accuracy: 0.850\n",
      "Epoch: 10/15...  Training Loss: 1.076 Validation Loss: 0.636..  Validation Accuracy: 0.842\n",
      "Epoch: 10/15...  Training Loss: 1.174 Validation Loss: 0.639..  Validation Accuracy: 0.837\n",
      "Epoch: 10/15...  Training Loss: 1.235 Validation Loss: 0.628..  Validation Accuracy: 0.835\n",
      "Epoch: 11/15...  Training Loss: 1.208 Validation Loss: 0.632..  Validation Accuracy: 0.855\n",
      "Epoch: 11/15...  Training Loss: 1.244 Validation Loss: 0.683..  Validation Accuracy: 0.838\n",
      "Epoch: 11/15...  Training Loss: 1.219 Validation Loss: 0.676..  Validation Accuracy: 0.854\n",
      "Epoch: 11/15...  Training Loss: 1.197 Validation Loss: 0.694..  Validation Accuracy: 0.848\n",
      "Epoch: 12/15...  Training Loss: 1.074 Validation Loss: 0.640..  Validation Accuracy: 0.847\n",
      "Epoch: 12/15...  Training Loss: 1.196 Validation Loss: 0.634..  Validation Accuracy: 0.852\n",
      "Epoch: 12/15...  Training Loss: 1.211 Validation Loss: 0.698..  Validation Accuracy: 0.833\n",
      "Epoch: 12/15...  Training Loss: 1.187 Validation Loss: 0.604..  Validation Accuracy: 0.857\n",
      "Epoch: 13/15...  Training Loss: 0.970 Validation Loss: 0.566..  Validation Accuracy: 0.858\n",
      "Epoch: 13/15...  Training Loss: 1.137 Validation Loss: 0.572..  Validation Accuracy: 0.859\n",
      "Epoch: 13/15...  Training Loss: 1.078 Validation Loss: 0.572..  Validation Accuracy: 0.860\n",
      "Epoch: 13/15...  Training Loss: 1.243 Validation Loss: 0.629..  Validation Accuracy: 0.847\n",
      "Epoch: 14/15...  Training Loss: 0.793 Validation Loss: 0.594..  Validation Accuracy: 0.847\n",
      "Epoch: 14/15...  Training Loss: 1.204 Validation Loss: 0.654..  Validation Accuracy: 0.841\n",
      "Epoch: 14/15...  Training Loss: 1.118 Validation Loss: 0.567..  Validation Accuracy: 0.857\n",
      "Epoch: 14/15...  Training Loss: 1.210 Validation Loss: 0.637..  Validation Accuracy: 0.855\n",
      "Epoch: 15/15...  Training Loss: 0.674 Validation Loss: 0.641..  Validation Accuracy: 0.850\n",
      "Epoch: 15/15...  Training Loss: 1.133 Validation Loss: 0.621..  Validation Accuracy: 0.851\n",
      "Epoch: 15/15...  Training Loss: 1.137 Validation Loss: 0.605..  Validation Accuracy: 0.863\n",
      "Epoch: 15/15...  Training Loss: 1.199 Validation Loss: 0.561..  Validation Accuracy: 0.876\n"
     ]
    }
   ],
   "source": [
    "epochs = 15\n",
    "print_every = 50\n",
    "steps = 0\n",
    "for e in range(epochs):\n",
    "    model.train()\n",
    "    running_loss = 0\n",
    "    for images, labels in iter(trainloader):\n",
    "        steps += 1\n",
    "\n",
    "        images, labels = images.to(device), labels.to(device)   \n",
    "\n",
    "        # reset gradients to zeros\n",
    "        optimizer.zero_grad()\n",
    "\n",
    "        # feed-Forward and Backpropagation\n",
    "        outputs = model.forward(images)\n",
    "        loss = criterion(outputs, labels)\n",
    "        loss.backward()\n",
    "        # update the weights\n",
    "        optimizer.step()\n",
    "\n",
    "        running_loss += loss.item()\n",
    "\n",
    "        if steps % print_every == 0:\n",
    "\n",
    "            # evaluation mode\n",
    "            model.eval()\n",
    "\n",
    "            # Turning off the gradients for validation\n",
    "            with torch.no_grad():\n",
    "                valid_loss, accuracy = validation(model, validloader, criterion)\n",
    "\n",
    "            print(\"Epoch: {}/{}... \".format(e+1, epochs),\n",
    "                  \"Training Loss: {:.3f}\".format(running_loss/print_every),\n",
    "                  \"Validation Loss: {:.3f}.. \".format(valid_loss/len(validloader)),\n",
    "                  \"Validation Accuracy: {:.3f}\".format(accuracy/len(validloader)))\n",
    "\n",
    "            running_loss = 0\n",
    "\n",
    "            # turn back train mode\n",
    "            model.train()\n",
    "    "
   ]
  },
  {
   "cell_type": "markdown",
   "metadata": {},
   "source": [
    "## Testing your network\n",
    "\n",
    "It's good practice to test your trained network on test data, images the network has never seen either in training or validation. This will give you a good estimate for the model's performance on completely new images. Run the test images through the network and measure the accuracy, the same way you did validation. You should be able to reach around 70% accuracy on the test set if the model has been trained well."
   ]
  },
  {
   "cell_type": "code",
   "execution_count": 11,
   "metadata": {},
   "outputs": [
    {
     "name": "stdout",
     "output_type": "stream",
     "text": [
      "Test Loss: 0.687..  Test Accuracy: 0.831\n"
     ]
    }
   ],
   "source": [
    "# TODO: Do validation on the test set\n",
    "\n",
    "# evaluation mode\n",
    "model.eval()\n",
    "\n",
    "# Turning off the gradients for Testing the network\n",
    "with torch.no_grad():\n",
    "    test_loss, test_accuracy = validation(model, testloader, criterion)\n",
    "    \n",
    "print(\"Test Loss: {:.3f}.. \".format(test_loss/len(testloader)),\n",
    "      \"Test Accuracy: {:.3f}\".format(test_accuracy/len(testloader)))\n"
   ]
  },
  {
   "cell_type": "markdown",
   "metadata": {},
   "source": [
    "## Save the checkpoint\n",
    "\n",
    "Now that your network is trained, save the model so you can load it later for making predictions. You probably want to save other things such as the mapping of classes to indices which you get from one of the image datasets: `image_datasets['train'].class_to_idx`. You can attach this to the model as an attribute which makes inference easier later on.\n",
    "\n",
    "```model.class_to_idx = image_datasets['train'].class_to_idx```\n",
    "\n",
    "Remember that you'll want to completely rebuild the model later so you can use it for inference. Make sure to include any information you need in the checkpoint. If you want to load the model and keep training, you'll want to save the number of epochs as well as the optimizer state, `optimizer.state_dict`. You'll likely want to use this trained model in the next part of the project, so best to save it now."
   ]
  },
  {
   "cell_type": "code",
   "execution_count": null,
   "metadata": {},
   "outputs": [],
   "source": [
    "# TODO: Save the checkpoint \n",
    "\n",
    "# Mapping classes to Indices\n",
    "model.class_to_idx = image_datasets['train'].class_to_idx\n",
    "\n",
    "checkpoint = {'cat_to_name': cat_to_name,\n",
    "              'class_to_idx': model.class_to_idx,\n",
    "              'model': model,\n",
    "              'classifier': model.classifier,\n",
    "              'state_dict': model.state_dict(),\n",
    "              'criterion': criterion,\n",
    "              'optimizer': optimizer,\n",
    "              'optimizer_state_dict': optimizer.state_dict(),\n",
    "              'epochs': epochs\n",
    "             }\n",
    "\n",
    "torch.save(checkpoint, 'checkpoint.pth')"
   ]
  },
  {
   "cell_type": "markdown",
   "metadata": {},
   "source": [
    "## Loading the checkpoint\n",
    "\n",
    "At this point it's good to write a function that can load a checkpoint and rebuild the model. That way you can come back to this project and keep working on it without having to retrain the network."
   ]
  },
  {
   "cell_type": "code",
   "execution_count": 21,
   "metadata": {},
   "outputs": [],
   "source": [
    "# TODO: Write a function that loads a checkpoint and rebuilds the model\n",
    "\n",
    "def load_checkpoint(filepath):\n",
    "    \n",
    "    if torch.cuda.is_available():\n",
    "        map_location=lambda storage, loc: storage.cuda()\n",
    "    else:\n",
    "        map_location='cpu'\n",
    "    \n",
    "        \n",
    "    checkpoint = torch.load(filepath, map_location=map_location)\n",
    "    \n",
    "    model = checkpoint['model']\n",
    "    model.load_state_dict(checkpoint['state_dict'])\n",
    "    model.cat_to_name = checkpoint['cat_to_name']\n",
    "    model.class_to_idx = checkpoint['class_to_idx']\n",
    "    \n",
    "    # Frozen parameters for pre-trained feature network\n",
    "    for parameters in model.parameters():\n",
    "        parameters.requires_grad = False\n",
    "    \n",
    "    model.classifier = checkpoint['classifier']\n",
    "    optimizer = checkpoint['optimizer']\n",
    "    optimizer.load_state_dict(checkpoint['optimizer_state_dict'])\n",
    "    model.epochs = checkpoint['epochs']\n",
    "    \n",
    "    # Enable cuda if available\n",
    "    device = torch.device(\"cuda:0\" if torch.cuda.is_available() else \"cpu\") \n",
    "\n",
    "    # change to cuda if available\n",
    "    model.to(device) \n",
    "    \n",
    "    return model, optimizer\n",
    "    "
   ]
  },
  {
   "cell_type": "code",
   "execution_count": 22,
   "metadata": {},
   "outputs": [],
   "source": [
    "model, optimizer = load_checkpoint('checkpoint.pth')"
   ]
  },
  {
   "cell_type": "markdown",
   "metadata": {},
   "source": [
    "# Inference for classification\n",
    "\n",
    "Now you'll write a function to use a trained network for inference. That is, you'll pass an image into the network and predict the class of the flower in the image. Write a function called `predict` that takes an image and a model, then returns the top $K$ most likely classes along with the probabilities. It should look like \n",
    "\n",
    "```python\n",
    "probs, classes = predict(image_path, model)\n",
    "print(probs)\n",
    "print(classes)\n",
    "> [ 0.01558163  0.01541934  0.01452626  0.01443549  0.01407339]\n",
    "> ['70', '3', '45', '62', '55']\n",
    "```\n",
    "\n",
    "First you'll need to handle processing the input image such that it can be used in your network. \n",
    "\n",
    "## Image Preprocessing\n",
    "\n",
    "You'll want to use `PIL` to load the image ([documentation](https://pillow.readthedocs.io/en/latest/reference/Image.html)). It's best to write a function that preprocesses the image so it can be used as input for the model. This function should process the images in the same manner used for training. \n",
    "\n",
    "First, resize the images where the shortest side is 256 pixels, keeping the aspect ratio. This can be done with the [`thumbnail`](http://pillow.readthedocs.io/en/3.1.x/reference/Image.html#PIL.Image.Image.thumbnail) or [`resize`](http://pillow.readthedocs.io/en/3.1.x/reference/Image.html#PIL.Image.Image.thumbnail) methods. Then you'll need to crop out the center 224x224 portion of the image.\n",
    "\n",
    "Color channels of images are typically encoded as integers 0-255, but the model expected floats 0-1. You'll need to convert the values. It's easiest with a Numpy array, which you can get from a PIL image like so `np_image = np.array(pil_image)`.\n",
    "\n",
    "As before, the network expects the images to be normalized in a specific way. For the means, it's `[0.485, 0.456, 0.406]` and for the standard deviations `[0.229, 0.224, 0.225]`. You'll want to subtract the means from each color channel, then divide by the standard deviation. \n",
    "\n",
    "And finally, PyTorch expects the color channel to be the first dimension but it's the third dimension in the PIL image and Numpy array. You can reorder dimensions using [`ndarray.transpose`](https://docs.scipy.org/doc/numpy-1.13.0/reference/generated/numpy.ndarray.transpose.html). The color channel needs to be first and retain the order of the other two dimensions."
   ]
  },
  {
   "cell_type": "code",
   "execution_count": 23,
   "metadata": {},
   "outputs": [],
   "source": [
    "def process_image(image):\n",
    "    ''' Scales, crops, and normalizes a PIL image for a PyTorch model,\n",
    "        returns an Numpy array\n",
    "    '''\n",
    "    \n",
    "    # TODO: Process a PIL image for use in a PyTorch model\n",
    "    \n",
    "    im = Image.open(image)\n",
    "    im.resize((256,256))\n",
    "    \n",
    "    width, height = im.size   # Get dimensions\n",
    "    new_width, new_height = 224, 224\n",
    "\n",
    "    left = (width - new_width)/2\n",
    "    top = (height - new_height)/2\n",
    "    right = (width + new_width)/2\n",
    "    bottom = (height + new_height)/2\n",
    "    \n",
    "    # Crop the center of the image\n",
    "    im = im.crop((left, top, right, bottom))\n",
    "    \n",
    "    # Convert PIL image to Numpy\n",
    "    np_image = np.array(im)\n",
    "    \n",
    "    # Normalize the images\n",
    "    np_image = np_image / np_image.max()\n",
    "    mean = np.array([0.485, 0.456, 0.406])\n",
    "    std = np.array([0.229, 0.224, 0.225])\n",
    "    normalization = (np_image - mean) / std\n",
    "    \n",
    "    pytorch_tensor = torch.Tensor(normalization.transpose((2,0,1)))\n",
    "    \n",
    "    return pytorch_tensor\n",
    "    "
   ]
  },
  {
   "cell_type": "markdown",
   "metadata": {},
   "source": [
    "To check your work, the function below converts a PyTorch tensor and displays it in the notebook. If your `process_image` function works, running the output through this function should return the original image (except for the cropped out portions)."
   ]
  },
  {
   "cell_type": "code",
   "execution_count": 24,
   "metadata": {},
   "outputs": [],
   "source": [
    "def imshow(image, ax=None, title=None):\n",
    "    \"\"\"Imshow for Tensor.\"\"\"\n",
    "    if ax is None:\n",
    "        fig, ax = plt.subplots()\n",
    "    \n",
    "    # PyTorch tensors assume the color channel is the first dimension\n",
    "    # but matplotlib assumes is the third dimension\n",
    "    image = image.numpy().transpose((1, 2, 0))\n",
    "    \n",
    "    # Undo preprocessing\n",
    "    mean = np.array([0.485, 0.456, 0.406])\n",
    "    std = np.array([0.229, 0.224, 0.225])\n",
    "    image = std * image + mean\n",
    "    \n",
    "    # Image needs to be clipped between 0 and 1 or it looks like noise when displayed\n",
    "    image = np.clip(image, 0, 1)\n",
    "    \n",
    "    ax.imshow(image)\n",
    "    \n",
    "    return ax"
   ]
  },
  {
   "cell_type": "markdown",
   "metadata": {},
   "source": [
    "## Class Prediction\n",
    "\n",
    "Once you can get images in the correct format, it's time to write a function for making predictions with your model. A common practice is to predict the top 5 or so (usually called top-$K$) most probable classes. You'll want to calculate the class probabilities then find the $K$ largest values.\n",
    "\n",
    "To get the top $K$ largest values in a tensor use [`x.topk(k)`](http://pytorch.org/docs/master/torch.html#torch.topk). This method returns both the highest `k` probabilities and the indices of those probabilities corresponding to the classes. You need to convert from these indices to the actual class labels using `class_to_idx` which hopefully you added to the model or from an `ImageFolder` you used to load the data ([see here](#Save-the-checkpoint)). Make sure to invert the dictionary so you get a mapping from index to class as well.\n",
    "\n",
    "Again, this method should take a path to an image and a model checkpoint, then return the probabilities and classes.\n",
    "\n",
    "```python\n",
    "probs, classes = predict(image_path, model)\n",
    "print(probs)\n",
    "print(classes)\n",
    "> [ 0.01558163  0.01541934  0.01452626  0.01443549  0.01407339]\n",
    "> ['70', '3', '45', '62', '55']\n",
    "```"
   ]
  },
  {
   "cell_type": "code",
   "execution_count": 25,
   "metadata": {},
   "outputs": [],
   "source": [
    "def predict(image_path, model, topk=5):\n",
    "    ''' Predict the class (or classes) of an image using a trained deep learning model.\n",
    "    '''\n",
    "    \n",
    "    # TODO: Implement the code to predict the class from an image file\n",
    "    device = torch.device(\"cuda:0\" if torch.cuda.is_available() else \"cpu\")\n",
    "    \n",
    "    # Loading Image and Model\n",
    "    im = process_image(image_path).to(device)\n",
    "    model, optimizer = load_checkpoint(model)\n",
    "    \n",
    "    # evaluation mode\n",
    "    model.eval()\n",
    "    \n",
    "    with torch.no_grad():\n",
    "        output = model.forward(im.unsqueeze_(0))\n",
    "        ps = torch.exp(output)\n",
    "        \n",
    "        # top  𝐾  largest values \n",
    "        top_ps, topk = ps.topk(topk)\n",
    "        \n",
    "        # reverse class_to_idx to idx_to_class\n",
    "        idx_to_class = {value : key for (key, value) in model.class_to_idx.items()}\n",
    "        \n",
    "        # the highest k probabilities and classes\n",
    "        probs = top_ps.numpy()[0]\n",
    "        classes = [idx_to_class[_class] for _class in  topk.numpy()[0]]\n",
    "\n",
    "    return probs, classes"
   ]
  },
  {
   "cell_type": "markdown",
   "metadata": {},
   "source": [
    "## Sanity Checking\n",
    "\n",
    "Now that you can use a trained model for predictions, check to make sure it makes sense. Even if the testing accuracy is high, it's always good to check that there aren't obvious bugs. Use `matplotlib` to plot the probabilities for the top 5 classes as a bar graph, along with the input image. It should look like this:\n",
    "\n",
    "<img src='assets/inference_example.png' width=300px>\n",
    "\n",
    "You can convert from the class integer encoding to actual flower names with the `cat_to_name.json` file (should have been loaded earlier in the notebook). To show a PyTorch tensor as an image, use the `imshow` function defined above."
   ]
  },
  {
   "cell_type": "code",
   "execution_count": 26,
   "metadata": {},
   "outputs": [
    {
     "data": {
      "image/png": "[encoded data removed]",
      "text/plain": [
       "<matplotlib.figure.Figure at 0x7f1e90fffc18>"
      ]
     },
     "metadata": {
      "needs_background": "light"
     },
     "output_type": "display_data"
    }
   ],
   "source": [
    "# TODO: Display an image along with the top 5 classes\n",
    "im = process_image('flowers/test/1/image_06743.jpg')\n",
    "probs, classes = predict('flowers/test/1/image_06743.jpg', 'checkpoint.pth', topk=5 )\n",
    "\n",
    "# Figure Object\n",
    "fig = plt.figure(figsize = [4, 8]) # larger figure size for subplots\n",
    "\n",
    "# Subplot 1\n",
    "# Extract the name of the flower category with highest probability \n",
    "# from cat_to_name.json file\n",
    "cat_name = cat_to_name[classes[np.argmax(probs)]]\n",
    "\n",
    "ax_1 = fig.add_subplot(2, 1, 1)  \n",
    "imshow(im, ax= ax_1)\n",
    "ax_1.axis('off')\n",
    "ax_1.set_title(cat_name)\n",
    "\n",
    "\n",
    "# Subplot 2\n",
    "ax_2 = fig.add_subplot(2, 1, 2)\n",
    "y_pos = [i for i, _ in enumerate(probs)]\n",
    "ax_2.barh(y_pos, probs)\n",
    "ax_2.set_yticks(y_pos)\n",
    "ax_2.set_yticklabels(cat_to_name[_class] for _class in classes)\n",
    "ax_2.invert_yaxis();"
   ]
  }
 ],
 "metadata": {
  "kernelspec": {
   "display_name": "Python 3",
   "language": "python",
   "name": "python3"
  },
  "language_info": {
   "codemirror_mode": {
    "name": "ipython",
    "version": 3
   },
   "file_extension": ".py",
   "mimetype": "text/x-python",
   "name": "python",
   "nbconvert_exporter": "python",
   "pygments_lexer": "ipython3",
   "version": "3.7.7"
  }
 },
 "nbformat": 4,
 "nbformat_minor": 2
}
